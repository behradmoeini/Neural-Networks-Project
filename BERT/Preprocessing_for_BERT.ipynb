{
 "cells": [
  {
   "cell_type": "code",
   "execution_count": 2,
   "metadata": {},
   "outputs": [
    {
     "data": {
      "text/plain": [
       "label\n",
       "anger          110\n",
       "boredom        179\n",
       "empty          827\n",
       "enthusiasm     759\n",
       "fun           1776\n",
       "happiness     5209\n",
       "hate          1323\n",
       "love          3842\n",
       "neutral       8638\n",
       "relief        1526\n",
       "sadness       5165\n",
       "surprise      2187\n",
       "worry         8459\n",
       "dtype: int64"
      ]
     },
     "execution_count": 2,
     "metadata": {},
     "output_type": "execute_result"
    }
   ],
   "source": [
    "import pandas as pd\n",
    "import numpy as np\n",
    "from sklearn.model_selection import train_test_split\n",
    "df_em = pd.read_csv('text_emotion.csv', header=0 )\n",
    "df_em.sentiment.unique()\n",
    "df_em.columns = ['guid', 'label', 'alpha', 'text']\n",
    "df_em['alpha']='a'\n",
    "df_em.head(10)\n",
    "\n",
    "\n",
    "\n",
    "#Splitting dataset into train and test\n",
    "train, test = train_test_split(df_em, test_size=0.20, random_state=42)\n",
    "\n",
    "#Splitting test dataset into test and dev\n",
    "dev, test = train_test_split(test, test_size=0.50, random_state=42)\n",
    "#test=test.replace(r'\\n',' ',regex=True)\n",
    "\n",
    "test=test.drop([\"label\", \"alpha\"], axis=1)\n",
    "train.to_csv('train.tsv', sep='\\t', index=False, header=False)\n",
    "dev.to_csv('dev.tsv', sep='\\t', index=False, header=False)\n",
    "test.to_csv('test.tsv', sep='\\t', index=False, header=True)\n",
    "\n",
    "test.head(10)\n",
    "\n",
    "df_em.label.unique()\n",
    "df_em.groupby('label').size()"
   ]
  },
  {
   "cell_type": "code",
   "execution_count": null,
   "metadata": {},
   "outputs": [],
   "source": [
    "import pandas as pd\n",
    "import numpy as np\n",
    "import re\n",
    "\n",
    "df = pd.read_csv('Jan9-2012-tweets-clean.txt', sep=\":\\t\", header=None, names=[\"a\", \"b\", \"c\"])\n",
    "df=df.drop(['c'], axis=1)\n",
    "#print(df)\n",
    "#df=df.b.str.split(\":: \",expand=True)\n",
    "\n",
    "df = pd.DataFrame(df.b.str.split(':: ',1).tolist(),\n",
    "                                   columns = ['text','emotion'])\n",
    "print(df.emotion.nunique())\n",
    "print(df.emotion.unique())\n"
   ]
  },
  {
   "cell_type": "code",
   "execution_count": null,
   "metadata": {},
   "outputs": [],
   "source": []
  }
 ],
 "metadata": {
  "kernelspec": {
   "display_name": "Python 3",
   "language": "python",
   "name": "python3"
  },
  "language_info": {
   "codemirror_mode": {
    "name": "ipython",
    "version": 3
   },
   "file_extension": ".py",
   "mimetype": "text/x-python",
   "name": "python",
   "nbconvert_exporter": "python",
   "pygments_lexer": "ipython3",
   "version": "3.6.9"
  }
 },
 "nbformat": 4,
 "nbformat_minor": 4
}
