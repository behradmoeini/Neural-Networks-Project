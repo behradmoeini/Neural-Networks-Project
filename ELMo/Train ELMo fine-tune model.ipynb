{
 "cells": [
  {
   "cell_type": "code",
   "execution_count": 1,
   "metadata": {
    "colab": {
     "base_uri": "https://localhost:8080/",
     "height": 423
    },
    "colab_type": "code",
    "executionInfo": {
     "elapsed": 4196,
     "status": "ok",
     "timestamp": 1591944947278,
     "user": {
      "displayName": "navid bamdadroshan",
      "photoUrl": "",
      "userId": "08552745652299117977"
     },
     "user_tz": -180
    },
    "id": "z-mWxhXgzpDE",
    "outputId": "9e83fe81-d85a-4bc2-9603-3a82a7808753"
   },
   "outputs": [
    {
     "name": "stdout",
     "output_type": "stream",
     "text": [
      "Requirement already satisfied: tensorflow-gpu==1.15 in /usr/local/lib/python3.6/dist-packages (1.15.0)\n",
      "Requirement already satisfied: grpcio>=1.8.6 in /usr/local/lib/python3.6/dist-packages (from tensorflow-gpu==1.15) (1.29.0)\n",
      "Requirement already satisfied: tensorflow-estimator==1.15.1 in /usr/local/lib/python3.6/dist-packages (from tensorflow-gpu==1.15) (1.15.1)\n",
      "Requirement already satisfied: opt-einsum>=2.3.2 in /usr/local/lib/python3.6/dist-packages (from tensorflow-gpu==1.15) (3.2.1)\n",
      "Requirement already satisfied: keras-applications>=1.0.8 in /usr/local/lib/python3.6/dist-packages (from tensorflow-gpu==1.15) (1.0.8)\n",
      "Requirement already satisfied: gast==0.2.2 in /usr/local/lib/python3.6/dist-packages (from tensorflow-gpu==1.15) (0.2.2)\n",
      "Requirement already satisfied: six>=1.10.0 in /usr/local/lib/python3.6/dist-packages (from tensorflow-gpu==1.15) (1.12.0)\n",
      "Requirement already satisfied: google-pasta>=0.1.6 in /usr/local/lib/python3.6/dist-packages (from tensorflow-gpu==1.15) (0.2.0)\n",
      "Requirement already satisfied: tensorboard<1.16.0,>=1.15.0 in /usr/local/lib/python3.6/dist-packages (from tensorflow-gpu==1.15) (1.15.0)\n",
      "Requirement already satisfied: numpy<2.0,>=1.16.0 in /usr/local/lib/python3.6/dist-packages (from tensorflow-gpu==1.15) (1.18.5)\n",
      "Requirement already satisfied: astor>=0.6.0 in /usr/local/lib/python3.6/dist-packages (from tensorflow-gpu==1.15) (0.8.1)\n",
      "Requirement already satisfied: wheel>=0.26 in /usr/local/lib/python3.6/dist-packages (from tensorflow-gpu==1.15) (0.34.2)\n",
      "Requirement already satisfied: termcolor>=1.1.0 in /usr/local/lib/python3.6/dist-packages (from tensorflow-gpu==1.15) (1.1.0)\n",
      "Requirement already satisfied: absl-py>=0.7.0 in /usr/local/lib/python3.6/dist-packages (from tensorflow-gpu==1.15) (0.9.0)\n",
      "Requirement already satisfied: protobuf>=3.6.1 in /usr/local/lib/python3.6/dist-packages (from tensorflow-gpu==1.15) (3.10.0)\n",
      "Requirement already satisfied: keras-preprocessing>=1.0.5 in /usr/local/lib/python3.6/dist-packages (from tensorflow-gpu==1.15) (1.1.2)\n",
      "Requirement already satisfied: wrapt>=1.11.1 in /usr/local/lib/python3.6/dist-packages (from tensorflow-gpu==1.15) (1.12.1)\n",
      "Requirement already satisfied: h5py in /usr/local/lib/python3.6/dist-packages (from keras-applications>=1.0.8->tensorflow-gpu==1.15) (2.10.0)\n",
      "Requirement already satisfied: markdown>=2.6.8 in /usr/local/lib/python3.6/dist-packages (from tensorboard<1.16.0,>=1.15.0->tensorflow-gpu==1.15) (3.2.2)\n",
      "Requirement already satisfied: werkzeug>=0.11.15 in /usr/local/lib/python3.6/dist-packages (from tensorboard<1.16.0,>=1.15.0->tensorflow-gpu==1.15) (1.0.1)\n",
      "Requirement already satisfied: setuptools>=41.0.0 in /usr/local/lib/python3.6/dist-packages (from tensorboard<1.16.0,>=1.15.0->tensorflow-gpu==1.15) (47.1.1)\n",
      "Requirement already satisfied: importlib-metadata; python_version < \"3.8\" in /usr/local/lib/python3.6/dist-packages (from markdown>=2.6.8->tensorboard<1.16.0,>=1.15.0->tensorflow-gpu==1.15) (1.6.0)\n",
      "Requirement already satisfied: zipp>=0.5 in /usr/local/lib/python3.6/dist-packages (from importlib-metadata; python_version < \"3.8\"->markdown>=2.6.8->tensorboard<1.16.0,>=1.15.0->tensorflow-gpu==1.15) (3.1.0)\n"
     ]
    }
   ],
   "source": [
    "#!pip install tensorflow==1.15\n",
    "!pip install tensorflow-gpu==1.15"
   ]
  },
  {
   "cell_type": "code",
   "execution_count": 2,
   "metadata": {
    "colab": {
     "base_uri": "https://localhost:8080/",
     "height": 34
    },
    "colab_type": "code",
    "executionInfo": {
     "elapsed": 2342,
     "status": "ok",
     "timestamp": 1591944953586,
     "user": {
      "displayName": "navid bamdadroshan",
      "photoUrl": "",
      "userId": "08552745652299117977"
     },
     "user_tz": -180
    },
    "id": "LBgSNZVxy2Qn",
    "outputId": "6184fcb6-680f-4d63-80e8-7da0f54e0996"
   },
   "outputs": [
    {
     "name": "stderr",
     "output_type": "stream",
     "text": [
      "Using TensorFlow backend.\n"
     ]
    }
   ],
   "source": [
    "import pandas as pd\n",
    "import numpy as np\n",
    "import tensorflow as tf\n",
    "import tensorflow_hub as hub\n",
    "import keras\n",
    "from keras.layers import Input, Lambda, Dense, Dropout\n",
    "from keras.models import Model\n",
    "import keras.backend as K\n",
    "from sklearn import preprocessing\n",
    "from sklearn.utils import shuffle\n",
    "from sklearn.model_selection import train_test_split\n",
    "from sklearn.metrics import accuracy_score\n",
    "from sklearn import metrics\n",
    "import matplotlib.pyplot as plt\n",
    "import os.path as path_\n",
    "\n",
    "import os"
   ]
  },
  {
   "cell_type": "code",
   "execution_count": 23,
   "metadata": {
    "colab": {
     "base_uri": "https://localhost:8080/",
     "height": 34
    },
    "colab_type": "code",
    "executionInfo": {
     "elapsed": 944,
     "status": "ok",
     "timestamp": 1591962991285,
     "user": {
      "displayName": "navid bamdadroshan",
      "photoUrl": "",
      "userId": "08552745652299117977"
     },
     "user_tz": -180
    },
    "id": "2VKyR3hAARbO",
    "outputId": "196e5842-fb50-401a-cbd8-c146544ba9cb"
   },
   "outputs": [
    {
     "data": {
      "text/plain": [
       "'/device:GPU:0'"
      ]
     },
     "execution_count": 23,
     "metadata": {
      "tags": []
     },
     "output_type": "execute_result"
    }
   ],
   "source": [
    "tf.test.gpu_device_name()"
   ]
  },
  {
   "cell_type": "code",
   "execution_count": 0,
   "metadata": {
    "colab": {},
    "colab_type": "code",
    "id": "3Ct8uzbfya1X"
   },
   "outputs": [],
   "source": [
    "start_epoch = 0\n",
    "epoch_iterator = start_epoch\n",
    "number_of_epochs_to_fit = 25\n",
    "batch_size = 32\n",
    "model_id = '0'\n",
    "dropout_rate = 0.4\n",
    "lr = 0.0001\n",
    "reg = 0.001"
   ]
  },
  {
   "cell_type": "code",
   "execution_count": 0,
   "metadata": {
    "colab": {},
    "colab_type": "code",
    "id": "KFUI-oxKzdt8"
   },
   "outputs": [],
   "source": [
    "elmo_embeder = hub.Module(\"https://tfhub.dev/google/elmo/3\", trainable=False)"
   ]
  },
  {
   "cell_type": "code",
   "execution_count": 29,
   "metadata": {
    "colab": {
     "base_uri": "https://localhost:8080/",
     "height": 67
    },
    "colab_type": "code",
    "executionInfo": {
     "elapsed": 932,
     "status": "ok",
     "timestamp": 1591963191811,
     "user": {
      "displayName": "navid bamdadroshan",
      "photoUrl": "",
      "userId": "08552745652299117977"
     },
     "user_tz": -180
    },
    "id": "bLs4ZUDJy2Xh",
    "outputId": "e6561375-b7fb-4934-8ba0-bd607e99d948"
   },
   "outputs": [
    {
     "name": "stdout",
     "output_type": "stream",
     "text": [
      "48640\n",
      "2560\n",
      "12800\n"
     ]
    }
   ],
   "source": [
    "dataset = pd.read_csv(\"../Dataset/train_dataset.csv\", encoding='utf-8')\n",
    "test_data = pd.read_csv('../Dataset/test_dataset.csv', encoding='utf-8')\n",
    "\n",
    "# deviding train and validation set\n",
    "size = dataset.shape[0]\n",
    "train_size = int((size*95)/100)\n",
    "train_data = dataset.iloc[0:train_size]\n",
    "validation_data = dataset.iloc[train_size:]\n",
    "\n",
    "\n",
    "y_train = list(train_data['sentiment'])\n",
    "X_train = list(train_data['content'])\n",
    "\n",
    "y_val = list(validation_data['sentiment'])\n",
    "X_val = list(validation_data['content'])\n",
    "\n",
    "y_test = list(test_data['sentiment'])\n",
    "X_test = list(test_data['content'])\n",
    "\n",
    "le = preprocessing.LabelEncoder()\n",
    "le.fit(y_train)\n",
    "\n",
    "def encode(labels):\n",
    "    enc = le.transform(labels)\n",
    "    return keras.utils.to_categorical(enc)\n",
    "\n",
    "def decode(one_hot):\n",
    "    dec = np.argmax(one_hot, axis=1)\n",
    "    return le.inverse_transform(dec)\n",
    "\n",
    "y_train_one_hot = encode(y_train)\n",
    "y_val_one_hot = encode(y_val)\n",
    "y_test_one_hot = encode(y_test)\n",
    "\n",
    "X_train = np.asarray(X_train)\n",
    "X_val = np.asarray(X_val)\n",
    "X_test = np.asarray(X_test)\n",
    "y_train = np.asarray(y_train_one_hot)\n",
    "y_val = np.asarray(y_val_one_hot)\n",
    "y_test = np.asarray(y_test_one_hot)\n",
    "\n",
    "print(X_train.shape[0])\n",
    "print(X_val.shape[0])\n",
    "print(X_test.shape[0])\n",
    "\n",
    "def ELMoEmbedding(x):\n",
    "    return elmo_embeder(tf.squeeze(tf.cast(x, tf.string)), signature=\"default\", as_dict=True)[\"default\"]\n"
   ]
  },
  {
   "cell_type": "code",
   "execution_count": 30,
   "metadata": {
    "colab": {
     "base_uri": "https://localhost:8080/",
     "height": 605
    },
    "colab_type": "code",
    "executionInfo": {
     "elapsed": 1549,
     "status": "ok",
     "timestamp": 1591963195702,
     "user": {
      "displayName": "navid bamdadroshan",
      "photoUrl": "",
      "userId": "08552745652299117977"
     },
     "user_tz": -180
    },
    "id": "AAzbXJYyy2aq",
    "outputId": "03fab51d-41ce-443d-cc1f-48e792328ddf"
   },
   "outputs": [
    {
     "name": "stdout",
     "output_type": "stream",
     "text": [
      "INFO:tensorflow:Saver not created because there are no variables in the graph to restore\n"
     ]
    },
    {
     "name": "stderr",
     "output_type": "stream",
     "text": [
      "INFO:tensorflow:Saver not created because there are no variables in the graph to restore\n"
     ]
    },
    {
     "name": "stdout",
     "output_type": "stream",
     "text": [
      "Model: \"model_5\"\n",
      "_________________________________________________________________\n",
      "Layer (type)                 Output Shape              Param #   \n",
      "=================================================================\n",
      "input_5 (InputLayer)         (None, 1)                 0         \n",
      "_________________________________________________________________\n",
      "lambda_5 (Lambda)            (None, 1024)              0         \n",
      "_________________________________________________________________\n",
      "dense_23 (Dense)             (None, 512)               524800    \n",
      "_________________________________________________________________\n",
      "dropout_15 (Dropout)         (None, 512)               0         \n",
      "_________________________________________________________________\n",
      "dense_24 (Dense)             (None, 512)               262656    \n",
      "_________________________________________________________________\n",
      "dropout_16 (Dropout)         (None, 512)               0         \n",
      "_________________________________________________________________\n",
      "dense_25 (Dense)             (None, 512)               262656    \n",
      "_________________________________________________________________\n",
      "dropout_17 (Dropout)         (None, 512)               0         \n",
      "_________________________________________________________________\n",
      "dense_26 (Dense)             (None, 256)               131328    \n",
      "_________________________________________________________________\n",
      "dropout_18 (Dropout)         (None, 256)               0         \n",
      "_________________________________________________________________\n",
      "dense_27 (Dense)             (None, 128)               32896     \n",
      "_________________________________________________________________\n",
      "dense_28 (Dense)             (None, 8)                 1032      \n",
      "=================================================================\n",
      "Total params: 1,215,368\n",
      "Trainable params: 1,215,368\n",
      "Non-trainable params: 0\n",
      "_________________________________________________________________\n",
      "None\n"
     ]
    }
   ],
   "source": [
    "# Model\n",
    "\n",
    "input_text = Input(shape=(1,), dtype=tf.string)\n",
    "embedding = Lambda(ELMoEmbedding, output_shape=(1024, ))(input_text)\n",
    "dense = Dense(512, activation='relu', kernel_regularizer=tf.keras.regularizers.l2(reg))(embedding)\n",
    "do = Dropout(dropout_rate)(dense)\n",
    "dense = Dense(512, activation='relu', kernel_regularizer=tf.keras.regularizers.l2(reg))(do)\n",
    "do = Dropout(dropout_rate)(dense)\n",
    "dense = Dense(512, activation='relu', kernel_regularizer=tf.keras.regularizers.l2(reg))(do)\n",
    "do = Dropout(dropout_rate)(dense)\n",
    "dense = Dense(256, activation='relu', kernel_regularizer=tf.keras.regularizers.l2(reg))(do)\n",
    "do = Dropout(dropout_rate)(dense)\n",
    "dense = Dense(128, activation='relu', kernel_regularizer=tf.keras.regularizers.l2(reg))(do)\n",
    "pred = Dense(8, activation='softmax')(dense)\n",
    "model = Model(inputs=[input_text], outputs=pred)\n",
    "\n",
    "model.compile(loss=\"categorical_crossentropy\", optimizer=keras.optimizers.Adam(lr), metrics=['accuracy'])\n",
    "print(model.summary())"
   ]
  },
  {
   "cell_type": "code",
   "execution_count": 21,
   "metadata": {
    "colab": {
     "base_uri": "https://localhost:8080/",
     "height": 1000
    },
    "colab_type": "code",
    "executionInfo": {
     "elapsed": 8959025,
     "status": "error",
     "timestamp": 1591962777226,
     "user": {
      "displayName": "navid bamdadroshan",
      "photoUrl": "",
      "userId": "08552745652299117977"
     },
     "user_tz": -180
    },
    "id": "asOKVqBAy2dY",
    "outputId": "1148cf4b-71b4-4bff-80e8-e6f59fb4a6f9"
   },
   "outputs": [
    {
     "name": "stdout",
     "output_type": "stream",
     "text": [
      "Train on 48640 samples, validate on 2560 samples\n",
      "Epoch 1/1\n",
      "48640/48640 [==============================] - 472s 10ms/step - loss: 3.6516 - accuracy: 0.2049 - val_loss: 3.1177 - val_accuracy: 0.2680\n",
      "Train on 48640 samples, validate on 2560 samples\n",
      "Epoch 2/2\n",
      "48640/48640 [==============================] - 470s 10ms/step - loss: 2.8719 - accuracy: 0.2860 - val_loss: 2.6204 - val_accuracy: 0.3262\n",
      "Train on 48640 samples, validate on 2560 samples\n",
      "Epoch 3/3\n",
      "48640/48640 [==============================] - 470s 10ms/step - loss: 2.4816 - accuracy: 0.3252 - val_loss: 2.3414 - val_accuracy: 0.3434\n",
      "Train on 48640 samples, validate on 2560 samples\n",
      "Epoch 4/4\n",
      "48640/48640 [==============================] - 468s 10ms/step - loss: 2.2389 - accuracy: 0.3578 - val_loss: 2.1468 - val_accuracy: 0.3684\n",
      "Train on 48640 samples, validate on 2560 samples\n",
      "Epoch 5/5\n",
      "48640/48640 [==============================] - 469s 10ms/step - loss: 2.0730 - accuracy: 0.3895 - val_loss: 2.0288 - val_accuracy: 0.3914\n",
      "Train on 48640 samples, validate on 2560 samples\n",
      "Epoch 6/6\n",
      "48640/48640 [==============================] - 468s 10ms/step - loss: 1.9395 - accuracy: 0.4220 - val_loss: 1.9005 - val_accuracy: 0.4285\n",
      "Train on 48640 samples, validate on 2560 samples\n",
      "Epoch 7/7\n",
      "48640/48640 [==============================] - 468s 10ms/step - loss: 1.8298 - accuracy: 0.4528 - val_loss: 1.8192 - val_accuracy: 0.4520\n",
      "Train on 48640 samples, validate on 2560 samples\n",
      "Epoch 8/8\n",
      "48640/48640 [==============================] - 470s 10ms/step - loss: 1.7357 - accuracy: 0.4838 - val_loss: 1.7276 - val_accuracy: 0.4965\n",
      "Train on 48640 samples, validate on 2560 samples\n",
      "Epoch 9/9\n",
      "48640/48640 [==============================] - 470s 10ms/step - loss: 1.6531 - accuracy: 0.5105 - val_loss: 1.7023 - val_accuracy: 0.4844\n",
      "Train on 48640 samples, validate on 2560 samples\n",
      "Epoch 10/10\n",
      "48640/48640 [==============================] - 470s 10ms/step - loss: 1.5844 - accuracy: 0.5346 - val_loss: 1.6252 - val_accuracy: 0.5262\n",
      "Train on 48640 samples, validate on 2560 samples\n",
      "Epoch 11/11\n",
      "48640/48640 [==============================] - 471s 10ms/step - loss: 1.5295 - accuracy: 0.5502 - val_loss: 1.5889 - val_accuracy: 0.5199\n",
      "Train on 48640 samples, validate on 2560 samples\n",
      "Epoch 12/12\n",
      "48640/48640 [==============================] - 470s 10ms/step - loss: 1.4832 - accuracy: 0.5653 - val_loss: 1.5455 - val_accuracy: 0.5520\n",
      "Train on 48640 samples, validate on 2560 samples\n",
      "Epoch 13/13\n",
      "48640/48640 [==============================] - 471s 10ms/step - loss: 1.4449 - accuracy: 0.5817 - val_loss: 1.5218 - val_accuracy: 0.5402\n",
      "Train on 48640 samples, validate on 2560 samples\n",
      "Epoch 14/14\n",
      "48640/48640 [==============================] - 470s 10ms/step - loss: 1.4127 - accuracy: 0.5883 - val_loss: 1.5153 - val_accuracy: 0.5488\n",
      "Train on 48640 samples, validate on 2560 samples\n",
      "Epoch 15/15\n",
      "48640/48640 [==============================] - 470s 10ms/step - loss: 1.3817 - accuracy: 0.6011 - val_loss: 1.4968 - val_accuracy: 0.5578\n",
      "Train on 48640 samples, validate on 2560 samples\n",
      "Epoch 16/16\n",
      "48640/48640 [==============================] - 469s 10ms/step - loss: 1.3548 - accuracy: 0.6096 - val_loss: 1.4937 - val_accuracy: 0.5539\n",
      "Train on 48640 samples, validate on 2560 samples\n",
      "Epoch 17/17\n",
      "48640/48640 [==============================] - 469s 10ms/step - loss: 1.3366 - accuracy: 0.6173 - val_loss: 1.5240 - val_accuracy: 0.5449\n",
      "Train on 48640 samples, validate on 2560 samples\n",
      "Epoch 18/18\n",
      "48640/48640 [==============================] - 472s 10ms/step - loss: 1.3171 - accuracy: 0.6261 - val_loss: 1.4721 - val_accuracy: 0.5609\n",
      "Train on 48640 samples, validate on 2560 samples\n",
      "Epoch 19/19\n",
      "48640/48640 [==============================] - 471s 10ms/step - loss: 1.2955 - accuracy: 0.6347 - val_loss: 1.4737 - val_accuracy: 0.5680\n",
      "Train on 48640 samples, validate on 2560 samples\n",
      "Epoch 20/20\n",
      "48640/48640 [==============================] - 471s 10ms/step - loss: 1.2755 - accuracy: 0.6410 - val_loss: 1.4679 - val_accuracy: 0.5699\n",
      "Train on 48640 samples, validate on 2560 samples\n",
      "Epoch 21/21\n",
      "48640/48640 [==============================] - 470s 10ms/step - loss: 1.2637 - accuracy: 0.6458 - val_loss: 1.4693 - val_accuracy: 0.5773\n",
      "Train on 48640 samples, validate on 2560 samples\n",
      "Epoch 22/22\n",
      "48640/48640 [==============================] - 469s 10ms/step - loss: 1.2496 - accuracy: 0.6513 - val_loss: 1.4607 - val_accuracy: 0.5688\n",
      "Train on 48640 samples, validate on 2560 samples\n",
      "Epoch 23/23\n",
      "48640/48640 [==============================] - 471s 10ms/step - loss: 1.2375 - accuracy: 0.6573 - val_loss: 1.4652 - val_accuracy: 0.5758\n",
      "Train on 48640 samples, validate on 2560 samples\n",
      "Epoch 24/24\n",
      "48640/48640 [==============================] - 471s 10ms/step - loss: 1.2251 - accuracy: 0.6615 - val_loss: 1.4648 - val_accuracy: 0.5797\n",
      "Train on 48640 samples, validate on 2560 samples\n",
      "Epoch 25/25\n",
      "48640/48640 [==============================] - 470s 10ms/step - loss: 1.2092 - accuracy: 0.6697 - val_loss: 1.4399 - val_accuracy: 0.5836\n",
      "Train on 48640 samples, validate on 2560 samples\n",
      "Epoch 26/26\n",
      "48640/48640 [==============================] - 469s 10ms/step - loss: 1.1969 - accuracy: 0.6762 - val_loss: 1.4705 - val_accuracy: 0.5750\n",
      "Train on 48640 samples, validate on 2560 samples\n",
      "Epoch 27/27\n",
      "22720/48640 [=============>................] - ETA: 3:58 - loss: 1.1765 - accuracy: 0.6833"
     ]
    },
    {
     "ename": "KeyboardInterrupt",
     "evalue": "ignored",
     "output_type": "error",
     "traceback": [
      "\u001b[0;31m---------------------------------------------------------------------------\u001b[0m",
      "\u001b[0;31mKeyboardInterrupt\u001b[0m                         Traceback (most recent call last)",
      "\u001b[0;32m<ipython-input-21-14c6d5f8830d>\u001b[0m in \u001b[0;36m<module>\u001b[0;34m()\u001b[0m\n\u001b[1;32m      9\u001b[0m         \u001b[0mmodel\u001b[0m\u001b[0;34m.\u001b[0m\u001b[0mload_weights\u001b[0m\u001b[0;34m(\u001b[0m\u001b[0;34m'elmo-'\u001b[0m\u001b[0;34m+\u001b[0m\u001b[0mmodel_id\u001b[0m\u001b[0;34m+\u001b[0m\u001b[0;34m'-epoch-'\u001b[0m\u001b[0;34m+\u001b[0m\u001b[0mstr\u001b[0m\u001b[0;34m(\u001b[0m\u001b[0mepoch_iterator\u001b[0m\u001b[0;34m)\u001b[0m\u001b[0;34m+\u001b[0m\u001b[0;34m'.h5'\u001b[0m\u001b[0;34m)\u001b[0m\u001b[0;34m\u001b[0m\u001b[0;34m\u001b[0m\u001b[0m\n\u001b[1;32m     10\u001b[0m     \u001b[0;32mfor\u001b[0m \u001b[0mi\u001b[0m \u001b[0;32min\u001b[0m \u001b[0mrange\u001b[0m\u001b[0;34m(\u001b[0m\u001b[0mnumber_of_epochs_to_fit\u001b[0m\u001b[0;34m)\u001b[0m\u001b[0;34m:\u001b[0m\u001b[0;34m\u001b[0m\u001b[0;34m\u001b[0m\u001b[0m\n\u001b[0;32m---> 11\u001b[0;31m         \u001b[0mhistory\u001b[0m \u001b[0;34m=\u001b[0m \u001b[0mmodel\u001b[0m\u001b[0;34m.\u001b[0m\u001b[0mfit\u001b[0m\u001b[0;34m(\u001b[0m\u001b[0mX_train\u001b[0m\u001b[0;34m,\u001b[0m \u001b[0my_train\u001b[0m\u001b[0;34m,\u001b[0m \u001b[0minitial_epoch\u001b[0m\u001b[0;34m=\u001b[0m\u001b[0mepoch_iterator\u001b[0m\u001b[0;34m,\u001b[0m \u001b[0mepochs\u001b[0m\u001b[0;34m=\u001b[0m\u001b[0mepoch_iterator\u001b[0m\u001b[0;34m+\u001b[0m\u001b[0;36m1\u001b[0m\u001b[0;34m,\u001b[0m \u001b[0mbatch_size\u001b[0m\u001b[0;34m=\u001b[0m\u001b[0;36m32\u001b[0m\u001b[0;34m,\u001b[0m \u001b[0mverbose\u001b[0m\u001b[0;34m=\u001b[0m\u001b[0;36m1\u001b[0m\u001b[0;34m,\u001b[0m \u001b[0mvalidation_data\u001b[0m\u001b[0;34m=\u001b[0m\u001b[0;34m(\u001b[0m\u001b[0mX_val\u001b[0m\u001b[0;34m,\u001b[0m \u001b[0my_val\u001b[0m\u001b[0;34m)\u001b[0m\u001b[0;34m)\u001b[0m\u001b[0;34m\u001b[0m\u001b[0;34m\u001b[0m\u001b[0m\n\u001b[0m\u001b[1;32m     12\u001b[0m         \u001b[0mepoch_iterator\u001b[0m \u001b[0;34m+=\u001b[0m \u001b[0;36m1\u001b[0m\u001b[0;34m\u001b[0m\u001b[0;34m\u001b[0m\u001b[0m\n\u001b[1;32m     13\u001b[0m         \u001b[0mmodel\u001b[0m\u001b[0;34m.\u001b[0m\u001b[0msave_weights\u001b[0m\u001b[0;34m(\u001b[0m\u001b[0;34m'elmo-'\u001b[0m\u001b[0;34m+\u001b[0m\u001b[0mmodel_id\u001b[0m\u001b[0;34m+\u001b[0m\u001b[0;34m'-epoch-'\u001b[0m\u001b[0;34m+\u001b[0m\u001b[0mstr\u001b[0m\u001b[0;34m(\u001b[0m\u001b[0mepoch_iterator\u001b[0m\u001b[0;34m)\u001b[0m\u001b[0;34m+\u001b[0m\u001b[0;34m'.h5'\u001b[0m\u001b[0;34m)\u001b[0m\u001b[0;34m\u001b[0m\u001b[0;34m\u001b[0m\u001b[0m\n",
      "\u001b[0;32m/usr/local/lib/python3.6/dist-packages/keras/engine/training.py\u001b[0m in \u001b[0;36mfit\u001b[0;34m(self, x, y, batch_size, epochs, verbose, callbacks, validation_split, validation_data, shuffle, class_weight, sample_weight, initial_epoch, steps_per_epoch, validation_steps, validation_freq, max_queue_size, workers, use_multiprocessing, **kwargs)\u001b[0m\n\u001b[1;32m   1237\u001b[0m                                         \u001b[0msteps_per_epoch\u001b[0m\u001b[0;34m=\u001b[0m\u001b[0msteps_per_epoch\u001b[0m\u001b[0;34m,\u001b[0m\u001b[0;34m\u001b[0m\u001b[0;34m\u001b[0m\u001b[0m\n\u001b[1;32m   1238\u001b[0m                                         \u001b[0mvalidation_steps\u001b[0m\u001b[0;34m=\u001b[0m\u001b[0mvalidation_steps\u001b[0m\u001b[0;34m,\u001b[0m\u001b[0;34m\u001b[0m\u001b[0;34m\u001b[0m\u001b[0m\n\u001b[0;32m-> 1239\u001b[0;31m                                         validation_freq=validation_freq)\n\u001b[0m\u001b[1;32m   1240\u001b[0m \u001b[0;34m\u001b[0m\u001b[0m\n\u001b[1;32m   1241\u001b[0m     def evaluate(self,\n",
      "\u001b[0;32m/usr/local/lib/python3.6/dist-packages/keras/engine/training_arrays.py\u001b[0m in \u001b[0;36mfit_loop\u001b[0;34m(model, fit_function, fit_inputs, out_labels, batch_size, epochs, verbose, callbacks, val_function, val_inputs, shuffle, initial_epoch, steps_per_epoch, validation_steps, validation_freq)\u001b[0m\n\u001b[1;32m    194\u001b[0m                     \u001b[0mins_batch\u001b[0m\u001b[0;34m[\u001b[0m\u001b[0mi\u001b[0m\u001b[0;34m]\u001b[0m \u001b[0;34m=\u001b[0m \u001b[0mins_batch\u001b[0m\u001b[0;34m[\u001b[0m\u001b[0mi\u001b[0m\u001b[0;34m]\u001b[0m\u001b[0;34m.\u001b[0m\u001b[0mtoarray\u001b[0m\u001b[0;34m(\u001b[0m\u001b[0;34m)\u001b[0m\u001b[0;34m\u001b[0m\u001b[0;34m\u001b[0m\u001b[0m\n\u001b[1;32m    195\u001b[0m \u001b[0;34m\u001b[0m\u001b[0m\n\u001b[0;32m--> 196\u001b[0;31m                 \u001b[0mouts\u001b[0m \u001b[0;34m=\u001b[0m \u001b[0mfit_function\u001b[0m\u001b[0;34m(\u001b[0m\u001b[0mins_batch\u001b[0m\u001b[0;34m)\u001b[0m\u001b[0;34m\u001b[0m\u001b[0;34m\u001b[0m\u001b[0m\n\u001b[0m\u001b[1;32m    197\u001b[0m                 \u001b[0mouts\u001b[0m \u001b[0;34m=\u001b[0m \u001b[0mto_list\u001b[0m\u001b[0;34m(\u001b[0m\u001b[0mouts\u001b[0m\u001b[0;34m)\u001b[0m\u001b[0;34m\u001b[0m\u001b[0;34m\u001b[0m\u001b[0m\n\u001b[1;32m    198\u001b[0m                 \u001b[0;32mfor\u001b[0m \u001b[0ml\u001b[0m\u001b[0;34m,\u001b[0m \u001b[0mo\u001b[0m \u001b[0;32min\u001b[0m \u001b[0mzip\u001b[0m\u001b[0;34m(\u001b[0m\u001b[0mout_labels\u001b[0m\u001b[0;34m,\u001b[0m \u001b[0mouts\u001b[0m\u001b[0;34m)\u001b[0m\u001b[0;34m:\u001b[0m\u001b[0;34m\u001b[0m\u001b[0;34m\u001b[0m\u001b[0m\n",
      "\u001b[0;32m/usr/local/lib/python3.6/dist-packages/tensorflow_core/python/keras/backend.py\u001b[0m in \u001b[0;36m__call__\u001b[0;34m(self, inputs)\u001b[0m\n\u001b[1;32m   3474\u001b[0m \u001b[0;34m\u001b[0m\u001b[0m\n\u001b[1;32m   3475\u001b[0m     fetched = self._callable_fn(*array_vals,\n\u001b[0;32m-> 3476\u001b[0;31m                                 run_metadata=self.run_metadata)\n\u001b[0m\u001b[1;32m   3477\u001b[0m     \u001b[0mself\u001b[0m\u001b[0;34m.\u001b[0m\u001b[0m_call_fetch_callbacks\u001b[0m\u001b[0;34m(\u001b[0m\u001b[0mfetched\u001b[0m\u001b[0;34m[\u001b[0m\u001b[0;34m-\u001b[0m\u001b[0mlen\u001b[0m\u001b[0;34m(\u001b[0m\u001b[0mself\u001b[0m\u001b[0;34m.\u001b[0m\u001b[0m_fetches\u001b[0m\u001b[0;34m)\u001b[0m\u001b[0;34m:\u001b[0m\u001b[0;34m]\u001b[0m\u001b[0;34m)\u001b[0m\u001b[0;34m\u001b[0m\u001b[0;34m\u001b[0m\u001b[0m\n\u001b[1;32m   3478\u001b[0m     output_structure = nest.pack_sequence_as(\n",
      "\u001b[0;32m/usr/local/lib/python3.6/dist-packages/tensorflow_core/python/client/session.py\u001b[0m in \u001b[0;36m__call__\u001b[0;34m(self, *args, **kwargs)\u001b[0m\n\u001b[1;32m   1470\u001b[0m         ret = tf_session.TF_SessionRunCallable(self._session._session,\n\u001b[1;32m   1471\u001b[0m                                                \u001b[0mself\u001b[0m\u001b[0;34m.\u001b[0m\u001b[0m_handle\u001b[0m\u001b[0;34m,\u001b[0m \u001b[0margs\u001b[0m\u001b[0;34m,\u001b[0m\u001b[0;34m\u001b[0m\u001b[0;34m\u001b[0m\u001b[0m\n\u001b[0;32m-> 1472\u001b[0;31m                                                run_metadata_ptr)\n\u001b[0m\u001b[1;32m   1473\u001b[0m         \u001b[0;32mif\u001b[0m \u001b[0mrun_metadata\u001b[0m\u001b[0;34m:\u001b[0m\u001b[0;34m\u001b[0m\u001b[0;34m\u001b[0m\u001b[0m\n\u001b[1;32m   1474\u001b[0m           \u001b[0mproto_data\u001b[0m \u001b[0;34m=\u001b[0m \u001b[0mtf_session\u001b[0m\u001b[0;34m.\u001b[0m\u001b[0mTF_GetBuffer\u001b[0m\u001b[0;34m(\u001b[0m\u001b[0mrun_metadata_ptr\u001b[0m\u001b[0;34m)\u001b[0m\u001b[0;34m\u001b[0m\u001b[0;34m\u001b[0m\u001b[0m\n",
      "\u001b[0;31mKeyboardInterrupt\u001b[0m: "
     ]
    }
   ],
   "source": [
    "# Train\n",
    "\n",
    "\n",
    "with tf.Session() as session:\n",
    "    K.set_session(session)\n",
    "    session.run(tf.global_variables_initializer())  \n",
    "    session.run(tf.tables_initializer())\n",
    "    if(epoch_iterator > 0):\n",
    "        model.load_weights('elmo-'+model_id+'-epoch-'+str(epoch_iterator)+'.h5')\n",
    "    for i in range(number_of_epochs_to_fit):\n",
    "        history = model.fit(X_train, y_train, initial_epoch=epoch_iterator, epochs=epoch_iterator+1, batch_size=32, verbose=1, validation_data=(X_val, y_val))\n",
    "        epoch_iterator += 1\n",
    "        model.save_weights('elmo-'+model_id+'-epoch-'+str(epoch_iterator)+'.h5')\n",
    "        \n",
    "        \n",
    "        # Save logs\n",
    "        logs = pd.DataFrame(columns=[\"epoch_num\", \"train_accuracy\", \"val_accuracy\", \"train_loss\", \"val_loss\"])\n",
    "        logs = logs.append({\"epoch_num\":epoch_iterator, \"train_accuracy\":history.history['accuracy'][0], \"val_accuracy\":history.history['val_accuracy'][0] , \"train_loss\":history.history['loss'][0] , \"val_loss\":history.history['val_loss'][0] }, ignore_index = True)\n",
    "        if path_.isfile('logs-'+model_id+'.csv'):\n",
    "            logs.to_csv('logs-'+model_id+'.csv', index=False, mode='a', header=False, encoding=\"utf-8\")\n",
    "        else:\n",
    "            logs.to_csv('logs-'+model_id+'.csv', index=False, mode='a', header=True, encoding=\"utf-8\")\n",
    "\n",
    "    "
   ]
  },
  {
   "cell_type": "code",
   "execution_count": 0,
   "metadata": {
    "colab": {},
    "colab_type": "code",
    "id": "25OY0a37y2jF"
   },
   "outputs": [],
   "source": [
    "# Predict test data\n",
    "\n",
    "\n",
    "with tf.Session() as session:\n",
    "    K.set_session(session)\n",
    "    session.run(tf.global_variables_initializer())\n",
    "    session.run(tf.tables_initializer())\n",
    "    model.load_weights('elmo-'+model_id+'-epoch-'+str(epoch_iterator)+'.h5')  \n",
    "    predicts = model.predict(X_test, batch_size=32)\n",
    "\n",
    "y_test = decode(y_test)\n",
    "y_preds = decode(predicts)"
   ]
  },
  {
   "cell_type": "code",
   "execution_count": 32,
   "metadata": {
    "colab": {
     "base_uri": "https://localhost:8080/",
     "height": 420
    },
    "colab_type": "code",
    "executionInfo": {
     "elapsed": 1212,
     "status": "ok",
     "timestamp": 1591963319658,
     "user": {
      "displayName": "navid bamdadroshan",
      "photoUrl": "",
      "userId": "08552745652299117977"
     },
     "user_tz": -180
    },
    "id": "ZuMn_7yVy2os",
    "outputId": "8c5cc969-136a-4af1-b00b-98afd2dc51db"
   },
   "outputs": [
    {
     "name": "stdout",
     "output_type": "stream",
     "text": [
      "[[1312   10   12    2    2   10    9   10]\n",
      " [  38  815   64  341   60  149  244  100]\n",
      " [  18   19 1279   27    0   29   18    9]\n",
      " [  20  262   56  917   45  146  175  116]\n",
      " [   0   42    1   52 1289    6    3   11]\n",
      " [  76  231  130  311   28  604  194  229]\n",
      " [  16  180   27  191    7   61  902   45]\n",
      " [  81  222   97  428   36  370  196  420]]\n",
      "              precision    recall  f1-score   support\n",
      "\n",
      "       anger       0.84      0.96      0.90      1367\n",
      "   happiness       0.46      0.45      0.45      1811\n",
      "        hate       0.77      0.91      0.83      1399\n",
      "     neutral       0.40      0.53      0.46      1737\n",
      "      relief       0.88      0.92      0.90      1404\n",
      "     sadness       0.44      0.33      0.38      1803\n",
      "    surprise       0.52      0.63      0.57      1429\n",
      "       worry       0.45      0.23      0.30      1850\n",
      "\n",
      "    accuracy                           0.59     12800\n",
      "   macro avg       0.59      0.62      0.60     12800\n",
      "weighted avg       0.57      0.59      0.57     12800\n",
      "\n",
      "0.58890625\n"
     ]
    }
   ],
   "source": [
    "# Print results\n",
    "\n",
    "\n",
    "print(metrics.confusion_matrix(y_test, y_preds))\n",
    "\n",
    "print(metrics.classification_report(y_test, y_preds))\n",
    "\n",
    "print(accuracy_score(y_test, y_preds))"
   ]
  },
  {
   "cell_type": "code",
   "execution_count": 4,
   "metadata": {
    "colab": {
     "base_uri": "https://localhost:8080/",
     "height": 453
    },
    "colab_type": "code",
    "executionInfo": {
     "elapsed": 1987,
     "status": "ok",
     "timestamp": 1591963320441,
     "user": {
      "displayName": "navid bamdadroshan",
      "photoUrl": "",
      "userId": "08552745652299117977"
     },
     "user_tz": -180
    },
    "id": "WMYQPc3ty2rp",
    "outputId": "85c6bd15-4cc2-41eb-9acb-c63d4f9f5e16"
   },
   "outputs": [
    {
     "data": {
      "text/plain": [
       "(array([0.1, 0.2, 0.3, 0.4, 0.5, 0.6, 0.7]),\n",
       " <a list of 7 Text major ticklabel objects>)"
      ]
     },
     "execution_count": 4,
     "metadata": {},
     "output_type": "execute_result"
    },
    {
     "data": {
      "image/png": "[encoded data removed]",
      "text/plain": [
       "<Figure size 1152x432 with 2 Axes>"
      ]
     },
     "metadata": {
      "needs_background": "light"
     },
     "output_type": "display_data"
    }
   ],
   "source": [
    "# Plot results\n",
    "\n",
    "logs_ = pd.read_csv('logs-'+model_id+'.csv', encoding=\"utf-8\")\n",
    "\n",
    "plt.figure(figsize=(16, 6))\n",
    "\n",
    "plt.subplot(1, 2, 1)\n",
    "plt.plot(logs_['epoch_num'], logs_['train_loss'], linewidth=2)\n",
    "plt.plot(logs_['epoch_num'], logs_['val_loss'], linewidth=2)\n",
    "plt.xlabel('Epoch', fontsize=15)\n",
    "plt.ylabel('Loss', fontsize=15)\n",
    "plt.legend(['Training', 'Validation'], fontsize=12)\n",
    "plt.title('Loss', fontsize=20)\n",
    "plt.xticks(fontsize=15)\n",
    "plt.yticks(fontsize=15)\n",
    "\n",
    "plt.subplot(1, 2, 2)\n",
    "plt.plot(logs_['epoch_num'], logs_['train_accuracy'], linewidth=2)\n",
    "plt.plot(logs_['epoch_num'], logs_['val_accuracy'], linewidth=2)\n",
    "plt.xlabel('Epoch', fontsize=15)\n",
    "plt.ylabel('Accuracy', fontsize=15)\n",
    "plt.legend(['Training', 'Validation'], fontsize=12)\n",
    "plt.title('Accuracy', fontsize=20)\n",
    "plt.xticks(fontsize=15)\n",
    "plt.yticks(fontsize=15)\n"
   ]
  }
 ],
 "metadata": {
  "accelerator": "GPU",
  "colab": {
   "authorship_tag": "ABX9TyMgfTpcLMazw1o5AAGNkULy",
   "collapsed_sections": [],
   "name": "Model 0 of ELMo.ipynb",
   "provenance": []
  },
  "kernelspec": {
   "display_name": "Python 3",
   "language": "python",
   "name": "python3"
  },
  "language_info": {
   "codemirror_mode": {
    "name": "ipython",
    "version": 3
   },
   "file_extension": ".py",
   "mimetype": "text/x-python",
   "name": "python",
   "nbconvert_exporter": "python",
   "pygments_lexer": "ipython3",
   "version": "3.7.3"
  }
 },
 "nbformat": 4,
 "nbformat_minor": 1
}
