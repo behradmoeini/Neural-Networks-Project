{
 "cells": [
  {
   "cell_type": "code",
   "execution_count": 1,
   "metadata": {},
   "outputs": [
    {
     "name": "stderr",
     "output_type": "stream",
     "text": [
      "Using TensorFlow backend.\n"
     ]
    }
   ],
   "source": [
    "import pandas as pd\n",
    "import numpy as np\n",
    "from sklearn import preprocessing\n",
    "import keras"
   ]
  },
  {
   "cell_type": "code",
   "execution_count": 2,
   "metadata": {},
   "outputs": [
    {
     "name": "stdout",
     "output_type": "stream",
     "text": [
      "(749999, 4)\n"
     ]
    }
   ],
   "source": [
    "# Reading data\n",
    "\n",
    "tweets_xlnet = pd.read_csv('../XLNet/tweets_with_pred_label_xlnet.csv', encoding=\"utf-8\")\n",
    "tweets_elmo = pd.read_csv('../ELMo/tweets_with_pred_label_elmo.csv', encoding=\"utf-8\")\n",
    "tweets_bert = pd.read_csv('../BERT/tweets_with_pred_label_bert.csv', encoding=\"utf-8\")\n",
    "tweets = pd.read_csv('../Data to predict/tweets.csv', encoding=\"utf-8\")\n",
    "\n",
    "xlnet_labels = list(tweets_xlnet['predicted_sentiment'])\n",
    "elmo_labels = list(tweets_elmo['predicted_sentiment'])\n",
    "bert_labels = list(tweets_bert['predicted_sentiment'])\n",
    "\n",
    "#in this project BERT model drops first instance so we have to drop first instance of tweets, elmo prediction, and xlnet prediction.\n",
    "tweets_xlnet.drop(tweets_xlnet.index[0], inplace=True)\n",
    "tweets_elmo.drop(tweets_elmo.index[0], inplace=True)\n",
    "tweets.drop(tweets.index[0], inplace=True)\n",
    "\n",
    "xlnet_labels_np = np.asanyarray(xlnet_labels)\n",
    "elmo_labels_np = np.asanyarray(elmo_labels)\n",
    "bert_labels_np = np.asanyarray(bert_labels)\n",
    "\n",
    "print(tweets_elmo.shape)"
   ]
  },
  {
   "cell_type": "code",
   "execution_count": 3,
   "metadata": {},
   "outputs": [],
   "source": [
    "# Defining one-hot-ecoder and decoder\n",
    "\n",
    "le = preprocessing.LabelEncoder()\n",
    "le.fit(xlnet_labels)\n",
    "\n",
    "def encode(labels):\n",
    "    enc = le.transform(labels)\n",
    "    return keras.utils.to_categorical(enc)\n",
    "\n",
    "def decode(one_hot):\n",
    "    dec = np.argmax(one_hot, axis=1)\n",
    "    return le.inverse_transform(dec)"
   ]
  },
  {
   "cell_type": "code",
   "execution_count": 4,
   "metadata": {},
   "outputs": [],
   "source": [
    "# Prioritizing models\n",
    "\n",
    "xlnet_labels_one_hot = encode(xlnet_labels) * 0.55\n",
    "elmo_labels_one_hot = encode(elmo_labels) * 0.6\n",
    "bert_labels_one_hot = encode(bert_labels) * 0.65"
   ]
  },
  {
   "cell_type": "code",
   "execution_count": 5,
   "metadata": {},
   "outputs": [],
   "source": [
    "# Ensembling\n",
    "\n",
    "ensembled_result = xlnet_labels_one_hot + elmo_labels_one_hot + bert_labels_one_hot\n",
    "temp = np.argmax(ensembled_result, axis=1)\n",
    "ensembled_results = le.inverse_transform(temp)"
   ]
  },
  {
   "cell_type": "code",
   "execution_count": 6,
   "metadata": {},
   "outputs": [
    {
     "name": "stdout",
     "output_type": "stream",
     "text": [
      "Bert model labels are 86.71% similar with ensembled model lables\n",
      "Elmo model labels are 50.4% similar with ensembled model lables\n",
      "xlnet model labels are 45.64% similar with ensembled model lables\n"
     ]
    }
   ],
   "source": [
    "# Calculate the similarity between result of seperate models and ensembled model\n",
    "\n",
    "same_in_bert_and_ensembeled = (ensembled_results == bert_labels_np).sum()/ensembled_results.shape[0]\n",
    "print(f\"Bert model labels are {round(same_in_bert_and_ensembeled*100,2)}% similar with ensembled model lables\")\n",
    "\n",
    "same_in_elmo_and_ensembeled = (ensembled_results == elmo_labels_np).sum()/ensembled_results.shape[0]\n",
    "print(f\"Elmo model labels are {round(same_in_elmo_and_ensembeled*100,2)}% similar with ensembled model lables\")\n",
    "\n",
    "same_in_xlnet_and_ensembeled = (ensembled_results == xlnet_labels_np).sum()/ensembled_results.shape[0]\n",
    "print(f\"xlnet model labels are {round(same_in_xlnet_and_ensembeled*100,2)}% similar with ensembled model lables\")"
   ]
  },
  {
   "cell_type": "code",
   "execution_count": null,
   "metadata": {},
   "outputs": [],
   "source": [
    "# Saving predicted labels\n",
    "\n",
    "tweets['predicted_sentiment'] = ensembled_results\n",
    "tweets.to_csv('../Data to predict/ensemble_predicted_tweets.csv', index=False, header=True, encoding=\"utf-8\")"
   ]
  }
 ],
 "metadata": {
  "kernelspec": {
   "display_name": "Python 3",
   "language": "python",
   "name": "python3"
  },
  "language_info": {
   "codemirror_mode": {
    "name": "ipython",
    "version": 3
   },
   "file_extension": ".py",
   "mimetype": "text/x-python",
   "name": "python",
   "nbconvert_exporter": "python",
   "pygments_lexer": "ipython3",
   "version": "3.7.3"
  }
 },
 "nbformat": 4,
 "nbformat_minor": 2
}
